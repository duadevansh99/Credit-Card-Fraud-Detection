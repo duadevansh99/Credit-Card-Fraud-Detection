{
 "cells": [
  {
   "cell_type": "code",
   "execution_count": 1,
   "metadata": {},
   "outputs": [],
   "source": [
    "# import the necessary packages \n",
    "import numpy as np \n",
    "import pandas as pd \n",
    "import matplotlib.pyplot as plt \n",
    "import seaborn as sns \n",
    "from matplotlib import gridspec "
   ]
  },
  {
   "cell_type": "code",
   "execution_count": 2,
   "metadata": {},
   "outputs": [],
   "source": [
    "data = pd.read_csv(\"creditcard.csv\") "
   ]
  },
  {
   "cell_type": "code",
   "execution_count": 3,
   "metadata": {},
   "outputs": [
    {
     "data": {
      "text/html": [
       "<div>\n",
       "<style scoped>\n",
       "    .dataframe tbody tr th:only-of-type {\n",
       "        vertical-align: middle;\n",
       "    }\n",
       "\n",
       "    .dataframe tbody tr th {\n",
       "        vertical-align: top;\n",
       "    }\n",
       "\n",
       "    .dataframe thead th {\n",
       "        text-align: right;\n",
       "    }\n",
       "</style>\n",
       "<table border=\"1\" class=\"dataframe\">\n",
       "  <thead>\n",
       "    <tr style=\"text-align: right;\">\n",
       "      <th></th>\n",
       "      <th>Time</th>\n",
       "      <th>V1</th>\n",
       "      <th>V2</th>\n",
       "      <th>V3</th>\n",
       "      <th>V4</th>\n",
       "      <th>V5</th>\n",
       "      <th>V6</th>\n",
       "      <th>V7</th>\n",
       "      <th>V8</th>\n",
       "      <th>V9</th>\n",
       "      <th>...</th>\n",
       "      <th>V21</th>\n",
       "      <th>V22</th>\n",
       "      <th>V23</th>\n",
       "      <th>V24</th>\n",
       "      <th>V25</th>\n",
       "      <th>V26</th>\n",
       "      <th>V27</th>\n",
       "      <th>V28</th>\n",
       "      <th>Amount</th>\n",
       "      <th>Class</th>\n",
       "    </tr>\n",
       "  </thead>\n",
       "  <tbody>\n",
       "    <tr>\n",
       "      <th>0</th>\n",
       "      <td>0.0</td>\n",
       "      <td>-1.359807</td>\n",
       "      <td>-0.072781</td>\n",
       "      <td>2.536347</td>\n",
       "      <td>1.378155</td>\n",
       "      <td>-0.338321</td>\n",
       "      <td>0.462388</td>\n",
       "      <td>0.239599</td>\n",
       "      <td>0.098698</td>\n",
       "      <td>0.363787</td>\n",
       "      <td>...</td>\n",
       "      <td>-0.018307</td>\n",
       "      <td>0.277838</td>\n",
       "      <td>-0.110474</td>\n",
       "      <td>0.066928</td>\n",
       "      <td>0.128539</td>\n",
       "      <td>-0.189115</td>\n",
       "      <td>0.133558</td>\n",
       "      <td>-0.021053</td>\n",
       "      <td>149.62</td>\n",
       "      <td>0</td>\n",
       "    </tr>\n",
       "    <tr>\n",
       "      <th>1</th>\n",
       "      <td>0.0</td>\n",
       "      <td>1.191857</td>\n",
       "      <td>0.266151</td>\n",
       "      <td>0.166480</td>\n",
       "      <td>0.448154</td>\n",
       "      <td>0.060018</td>\n",
       "      <td>-0.082361</td>\n",
       "      <td>-0.078803</td>\n",
       "      <td>0.085102</td>\n",
       "      <td>-0.255425</td>\n",
       "      <td>...</td>\n",
       "      <td>-0.225775</td>\n",
       "      <td>-0.638672</td>\n",
       "      <td>0.101288</td>\n",
       "      <td>-0.339846</td>\n",
       "      <td>0.167170</td>\n",
       "      <td>0.125895</td>\n",
       "      <td>-0.008983</td>\n",
       "      <td>0.014724</td>\n",
       "      <td>2.69</td>\n",
       "      <td>0</td>\n",
       "    </tr>\n",
       "    <tr>\n",
       "      <th>2</th>\n",
       "      <td>1.0</td>\n",
       "      <td>-1.358354</td>\n",
       "      <td>-1.340163</td>\n",
       "      <td>1.773209</td>\n",
       "      <td>0.379780</td>\n",
       "      <td>-0.503198</td>\n",
       "      <td>1.800499</td>\n",
       "      <td>0.791461</td>\n",
       "      <td>0.247676</td>\n",
       "      <td>-1.514654</td>\n",
       "      <td>...</td>\n",
       "      <td>0.247998</td>\n",
       "      <td>0.771679</td>\n",
       "      <td>0.909412</td>\n",
       "      <td>-0.689281</td>\n",
       "      <td>-0.327642</td>\n",
       "      <td>-0.139097</td>\n",
       "      <td>-0.055353</td>\n",
       "      <td>-0.059752</td>\n",
       "      <td>378.66</td>\n",
       "      <td>0</td>\n",
       "    </tr>\n",
       "    <tr>\n",
       "      <th>3</th>\n",
       "      <td>1.0</td>\n",
       "      <td>-0.966272</td>\n",
       "      <td>-0.185226</td>\n",
       "      <td>1.792993</td>\n",
       "      <td>-0.863291</td>\n",
       "      <td>-0.010309</td>\n",
       "      <td>1.247203</td>\n",
       "      <td>0.237609</td>\n",
       "      <td>0.377436</td>\n",
       "      <td>-1.387024</td>\n",
       "      <td>...</td>\n",
       "      <td>-0.108300</td>\n",
       "      <td>0.005274</td>\n",
       "      <td>-0.190321</td>\n",
       "      <td>-1.175575</td>\n",
       "      <td>0.647376</td>\n",
       "      <td>-0.221929</td>\n",
       "      <td>0.062723</td>\n",
       "      <td>0.061458</td>\n",
       "      <td>123.50</td>\n",
       "      <td>0</td>\n",
       "    </tr>\n",
       "    <tr>\n",
       "      <th>4</th>\n",
       "      <td>2.0</td>\n",
       "      <td>-1.158233</td>\n",
       "      <td>0.877737</td>\n",
       "      <td>1.548718</td>\n",
       "      <td>0.403034</td>\n",
       "      <td>-0.407193</td>\n",
       "      <td>0.095921</td>\n",
       "      <td>0.592941</td>\n",
       "      <td>-0.270533</td>\n",
       "      <td>0.817739</td>\n",
       "      <td>...</td>\n",
       "      <td>-0.009431</td>\n",
       "      <td>0.798278</td>\n",
       "      <td>-0.137458</td>\n",
       "      <td>0.141267</td>\n",
       "      <td>-0.206010</td>\n",
       "      <td>0.502292</td>\n",
       "      <td>0.219422</td>\n",
       "      <td>0.215153</td>\n",
       "      <td>69.99</td>\n",
       "      <td>0</td>\n",
       "    </tr>\n",
       "  </tbody>\n",
       "</table>\n",
       "<p>5 rows × 31 columns</p>\n",
       "</div>"
      ],
      "text/plain": [
       "   Time        V1        V2        V3        V4        V5        V6        V7  \\\n",
       "0   0.0 -1.359807 -0.072781  2.536347  1.378155 -0.338321  0.462388  0.239599   \n",
       "1   0.0  1.191857  0.266151  0.166480  0.448154  0.060018 -0.082361 -0.078803   \n",
       "2   1.0 -1.358354 -1.340163  1.773209  0.379780 -0.503198  1.800499  0.791461   \n",
       "3   1.0 -0.966272 -0.185226  1.792993 -0.863291 -0.010309  1.247203  0.237609   \n",
       "4   2.0 -1.158233  0.877737  1.548718  0.403034 -0.407193  0.095921  0.592941   \n",
       "\n",
       "         V8        V9  ...       V21       V22       V23       V24       V25  \\\n",
       "0  0.098698  0.363787  ... -0.018307  0.277838 -0.110474  0.066928  0.128539   \n",
       "1  0.085102 -0.255425  ... -0.225775 -0.638672  0.101288 -0.339846  0.167170   \n",
       "2  0.247676 -1.514654  ...  0.247998  0.771679  0.909412 -0.689281 -0.327642   \n",
       "3  0.377436 -1.387024  ... -0.108300  0.005274 -0.190321 -1.175575  0.647376   \n",
       "4 -0.270533  0.817739  ... -0.009431  0.798278 -0.137458  0.141267 -0.206010   \n",
       "\n",
       "        V26       V27       V28  Amount  Class  \n",
       "0 -0.189115  0.133558 -0.021053  149.62      0  \n",
       "1  0.125895 -0.008983  0.014724    2.69      0  \n",
       "2 -0.139097 -0.055353 -0.059752  378.66      0  \n",
       "3 -0.221929  0.062723  0.061458  123.50      0  \n",
       "4  0.502292  0.219422  0.215153   69.99      0  \n",
       "\n",
       "[5 rows x 31 columns]"
      ]
     },
     "execution_count": 3,
     "metadata": {},
     "output_type": "execute_result"
    }
   ],
   "source": [
    "data.head()"
   ]
  },
  {
   "cell_type": "code",
   "execution_count": 4,
   "metadata": {},
   "outputs": [
    {
     "name": "stdout",
     "output_type": "stream",
     "text": [
      "(284807, 31)\n",
      "                Time            V1            V2            V3            V4  \\\n",
      "count  284807.000000  2.848070e+05  2.848070e+05  2.848070e+05  2.848070e+05   \n",
      "mean    94813.859575  3.919560e-15  5.688174e-16 -8.769071e-15  2.782312e-15   \n",
      "std     47488.145955  1.958696e+00  1.651309e+00  1.516255e+00  1.415869e+00   \n",
      "min         0.000000 -5.640751e+01 -7.271573e+01 -4.832559e+01 -5.683171e+00   \n",
      "25%     54201.500000 -9.203734e-01 -5.985499e-01 -8.903648e-01 -8.486401e-01   \n",
      "50%     84692.000000  1.810880e-02  6.548556e-02  1.798463e-01 -1.984653e-02   \n",
      "75%    139320.500000  1.315642e+00  8.037239e-01  1.027196e+00  7.433413e-01   \n",
      "max    172792.000000  2.454930e+00  2.205773e+01  9.382558e+00  1.687534e+01   \n",
      "\n",
      "                 V5            V6            V7            V8            V9  \\\n",
      "count  2.848070e+05  2.848070e+05  2.848070e+05  2.848070e+05  2.848070e+05   \n",
      "mean  -1.552563e-15  2.010663e-15 -1.694249e-15 -1.927028e-16 -3.137024e-15   \n",
      "std    1.380247e+00  1.332271e+00  1.237094e+00  1.194353e+00  1.098632e+00   \n",
      "min   -1.137433e+02 -2.616051e+01 -4.355724e+01 -7.321672e+01 -1.343407e+01   \n",
      "25%   -6.915971e-01 -7.682956e-01 -5.540759e-01 -2.086297e-01 -6.430976e-01   \n",
      "50%   -5.433583e-02 -2.741871e-01  4.010308e-02  2.235804e-02 -5.142873e-02   \n",
      "75%    6.119264e-01  3.985649e-01  5.704361e-01  3.273459e-01  5.971390e-01   \n",
      "max    3.480167e+01  7.330163e+01  1.205895e+02  2.000721e+01  1.559499e+01   \n",
      "\n",
      "       ...           V21           V22           V23           V24  \\\n",
      "count  ...  2.848070e+05  2.848070e+05  2.848070e+05  2.848070e+05   \n",
      "mean   ...  1.537294e-16  7.959909e-16  5.367590e-16  4.458112e-15   \n",
      "std    ...  7.345240e-01  7.257016e-01  6.244603e-01  6.056471e-01   \n",
      "min    ... -3.483038e+01 -1.093314e+01 -4.480774e+01 -2.836627e+00   \n",
      "25%    ... -2.283949e-01 -5.423504e-01 -1.618463e-01 -3.545861e-01   \n",
      "50%    ... -2.945017e-02  6.781943e-03 -1.119293e-02  4.097606e-02   \n",
      "75%    ...  1.863772e-01  5.285536e-01  1.476421e-01  4.395266e-01   \n",
      "max    ...  2.720284e+01  1.050309e+01  2.252841e+01  4.584549e+00   \n",
      "\n",
      "                V25           V26           V27           V28         Amount  \\\n",
      "count  2.848070e+05  2.848070e+05  2.848070e+05  2.848070e+05  284807.000000   \n",
      "mean   1.453003e-15  1.699104e-15 -3.660161e-16 -1.206049e-16      88.349619   \n",
      "std    5.212781e-01  4.822270e-01  4.036325e-01  3.300833e-01     250.120109   \n",
      "min   -1.029540e+01 -2.604551e+00 -2.256568e+01 -1.543008e+01       0.000000   \n",
      "25%   -3.171451e-01 -3.269839e-01 -7.083953e-02 -5.295979e-02       5.600000   \n",
      "50%    1.659350e-02 -5.213911e-02  1.342146e-03  1.124383e-02      22.000000   \n",
      "75%    3.507156e-01  2.409522e-01  9.104512e-02  7.827995e-02      77.165000   \n",
      "max    7.519589e+00  3.517346e+00  3.161220e+01  3.384781e+01   25691.160000   \n",
      "\n",
      "               Class  \n",
      "count  284807.000000  \n",
      "mean        0.001727  \n",
      "std         0.041527  \n",
      "min         0.000000  \n",
      "25%         0.000000  \n",
      "50%         0.000000  \n",
      "75%         0.000000  \n",
      "max         1.000000  \n",
      "\n",
      "[8 rows x 31 columns]\n"
     ]
    }
   ],
   "source": [
    "print(data.shape) \n",
    "print(data.describe()) "
   ]
  },
  {
   "cell_type": "code",
   "execution_count": 5,
   "metadata": {},
   "outputs": [
    {
     "name": "stdout",
     "output_type": "stream",
     "text": [
      "0.0017304750013189597\n",
      "Fraud Cases: 492\n",
      "Valid Transactions: 284315\n"
     ]
    }
   ],
   "source": [
    "# Determine number of fraud cases in dataset \n",
    "fraud = data[data['Class'] == 1] \n",
    "valid = data[data['Class'] == 0] \n",
    "outlierFraction = len(fraud)/float(len(valid)) \n",
    "print(outlierFraction) \n",
    "print('Fraud Cases: {}'.format(len(data[data['Class'] == 1]))) \n",
    "print('Valid Transactions: {}'.format(len(data[data['Class'] == 0]))) "
   ]
  },
  {
   "cell_type": "code",
   "execution_count": 7,
   "metadata": {},
   "outputs": [
    {
     "name": "stdout",
     "output_type": "stream",
     "text": [
      "Amount details of the fraudulent transaction\n"
     ]
    },
    {
     "data": {
      "text/plain": [
       "count     492.000000\n",
       "mean      122.211321\n",
       "std       256.683288\n",
       "min         0.000000\n",
       "25%         1.000000\n",
       "50%         9.250000\n",
       "75%       105.890000\n",
       "max      2125.870000\n",
       "Name: Amount, dtype: float64"
      ]
     },
     "execution_count": 7,
     "metadata": {},
     "output_type": "execute_result"
    }
   ],
   "source": [
    "print('Amount details of the fraudulent transaction') \n",
    "fraud.Amount.describe() "
   ]
  },
  {
   "cell_type": "code",
   "execution_count": 9,
   "metadata": {},
   "outputs": [
    {
     "name": "stdout",
     "output_type": "stream",
     "text": [
      "details of valid transaction\n"
     ]
    },
    {
     "data": {
      "text/plain": [
       "count    284315.000000\n",
       "mean         88.291022\n",
       "std         250.105092\n",
       "min           0.000000\n",
       "25%           5.650000\n",
       "50%          22.000000\n",
       "75%          77.050000\n",
       "max       25691.160000\n",
       "Name: Amount, dtype: float64"
      ]
     },
     "execution_count": 9,
     "metadata": {},
     "output_type": "execute_result"
    }
   ],
   "source": [
    "print(\"details of valid transaction\") \n",
    "valid.Amount.describe() "
   ]
  },
  {
   "cell_type": "code",
   "execution_count": 83,
   "metadata": {},
   "outputs": [
    {
     "data": {
      "image/png": "[encoded data removed]",
      "text/plain": [
       "<Figure size 720x576 with 2 Axes>"
      ]
     },
     "metadata": {
      "needs_background": "light"
     },
     "output_type": "display_data"
    }
   ],
   "source": [
    "# Correlation matrix \n",
    "corrmat = data.corr() \n",
    "fig = plt.figure(figsize = (10, 8)) \n",
    "sns.heatmap(corrmat, vmax = .8, square = True) \n",
    "plt.show() "
   ]
  },
  {
   "cell_type": "code",
   "execution_count": 11,
   "metadata": {},
   "outputs": [
    {
     "name": "stdout",
     "output_type": "stream",
     "text": [
      "(284807, 30)\n",
      "(284807,)\n"
     ]
    }
   ],
   "source": [
    "# dividing the X and the Y from the dataset \n",
    "X = data.drop(['Class'], axis = 1) \n",
    "Y = data[\"Class\"] \n",
    "print(X.shape) \n",
    "print(Y.shape) \n",
    "# getting just the values for the sake of processing  \n",
    "# (its a numpy array with no columns) \n",
    "xData = X.values \n",
    "yData = Y.values "
   ]
  },
  {
   "cell_type": "code",
   "execution_count": 12,
   "metadata": {},
   "outputs": [],
   "source": [
    "# Using Skicit-learn to split data into training and testing sets \n",
    "from sklearn.model_selection import train_test_split \n",
    "# Split the data into training and testing sets \n",
    "xTrain, xTest, yTrain, yTest = train_test_split( \n",
    "        xData, yData, test_size = 0.2, random_state = 42) "
   ]
  },
  {
   "cell_type": "code",
   "execution_count": 29,
   "metadata": {
    "collapsed": true
   },
   "outputs": [
    {
     "data": {
      "text/plain": [
       "LogisticRegression(max_iter=1000)"
      ]
     },
     "execution_count": 29,
     "metadata": {},
     "output_type": "execute_result"
    }
   ],
   "source": [
    "#Building the Logistic regression classifier\n",
    "from sklearn.linear_model import LogisticRegression\n",
    "clf_LR=LogisticRegression(max_iter=1000)\n",
    "clf_LR.fit(xTrain, yTrain)"
   ]
  },
  {
   "cell_type": "code",
   "execution_count": 38,
   "metadata": {},
   "outputs": [
    {
     "data": {
      "text/plain": [
       "GaussianNB()"
      ]
     },
     "execution_count": 38,
     "metadata": {},
     "output_type": "execute_result"
    }
   ],
   "source": [
    "#Building the Naive Bayes classifier\n",
    "from sklearn.naive_bayes import GaussianNB\n",
    "clf_NB=GaussianNB()\n",
    "clf_NB.fit(xTrain, yTrain)"
   ]
  },
  {
   "cell_type": "code",
   "execution_count": 45,
   "metadata": {},
   "outputs": [
    {
     "data": {
      "text/plain": [
       "KNeighborsClassifier()"
      ]
     },
     "execution_count": 45,
     "metadata": {},
     "output_type": "execute_result"
    }
   ],
   "source": [
    "#Building the KNN classifier\n",
    "from sklearn.neighbors import KNeighborsClassifier\n",
    "clf_KNN= KNeighborsClassifier()\n",
    "clf_KNN.fit(xTrain, yTrain)"
   ]
  },
  {
   "cell_type": "code",
   "execution_count": 66,
   "metadata": {},
   "outputs": [],
   "source": [
    "#Building the SVM classifier\n",
    "from sklearn.svm import SVC\n",
    "clf_svm= SVC(kernel='linear').fit(xTrain, yTrain)"
   ]
  },
  {
   "cell_type": "code",
   "execution_count": 21,
   "metadata": {},
   "outputs": [],
   "source": [
    "# Building the Random Forest Classifier (RANDOM FOREST) \n",
    "from sklearn.ensemble import RandomForestClassifier \n",
    "# random forest model creation \n",
    "rfc = RandomForestClassifier() \n",
    "rfc.fit(xTrain, yTrain) "
   ]
  },
  {
   "cell_type": "code",
   "execution_count": 75,
   "metadata": {},
   "outputs": [
    {
     "name": "stdout",
     "output_type": "stream",
     "text": [
      "WARNING:tensorflow:From C:\\Users\\duade\\anaconda3\\envs\\py37\\lib\\site-packages\\tensorflow\\python\\ops\\nn_impl.py:180: add_dispatch_support.<locals>.wrapper (from tensorflow.python.ops.array_ops) is deprecated and will be removed in a future version.\n",
      "Instructions for updating:\n",
      "Use tf.where in 2.0, which has the same broadcast rule as np.where\n",
      "WARNING:tensorflow:From C:\\Users\\duade\\anaconda3\\envs\\py37\\lib\\site-packages\\keras\\backend\\tensorflow_backend.py:422: The name tf.global_variables is deprecated. Please use tf.compat.v1.global_variables instead.\n",
      "\n",
      "Train on 182276 samples, validate on 45569 samples\n",
      "Epoch 1/35\n",
      "182276/182276 [==============================] - 4s 23us/step - loss: 50.1173 - acc: 0.9885 - val_loss: 3.0684 - val_acc: 0.9981\n",
      "Epoch 2/35\n",
      "182276/182276 [==============================] - 3s 19us/step - loss: 3.8391 - acc: 0.9964 - val_loss: 0.2629 - val_acc: 0.9964\n",
      "Epoch 3/35\n",
      "182276/182276 [==============================] - 3s 18us/step - loss: 3.4505 - acc: 0.9962 - val_loss: 2.6573 - val_acc: 0.9981\n",
      "Epoch 4/35\n",
      "182276/182276 [==============================] - 3s 19us/step - loss: 5.2030 - acc: 0.9964 - val_loss: 5.9565 - val_acc: 0.9981\n",
      "Epoch 5/35\n",
      "182276/182276 [==============================] - 3s 19us/step - loss: 1.5522 - acc: 0.9965 - val_loss: 0.1884 - val_acc: 0.9980\n",
      "Epoch 6/35\n",
      "182276/182276 [==============================] - 4s 19us/step - loss: 5.3871 - acc: 0.9967 - val_loss: 4.7202 - val_acc: 0.9981\n",
      "Epoch 7/35\n",
      "182276/182276 [==============================] - 4s 20us/step - loss: 2.7610 - acc: 0.9965 - val_loss: 3.6677 - val_acc: 0.9982\n",
      "Epoch 8/35\n",
      "182276/182276 [==============================] - 3s 19us/step - loss: 3.5010 - acc: 0.9965 - val_loss: 4.9840 - val_acc: 0.9981\n",
      "Epoch 9/35\n",
      "182276/182276 [==============================] - 3s 19us/step - loss: 2.2612 - acc: 0.9970 - val_loss: 3.4945 - val_acc: 0.9980\n",
      "Epoch 10/35\n",
      "182276/182276 [==============================] - 3s 19us/step - loss: 2.0173 - acc: 0.9968 - val_loss: 7.5473 - val_acc: 0.9981\n",
      "Epoch 11/35\n",
      "182276/182276 [==============================] - 4s 19us/step - loss: 1.5611 - acc: 0.9974 - val_loss: 0.0890 - val_acc: 0.9977\n",
      "Epoch 12/35\n",
      "182276/182276 [==============================] - 3s 19us/step - loss: 1.1296 - acc: 0.9971 - val_loss: 5.9379 - val_acc: 0.9981\n",
      "Epoch 13/35\n",
      "182276/182276 [==============================] - 3s 19us/step - loss: 1.3699 - acc: 0.9975 - val_loss: 0.0844 - val_acc: 0.9983\n",
      "Epoch 14/35\n",
      "182276/182276 [==============================] - 3s 19us/step - loss: 0.9124 - acc: 0.9977 - val_loss: 4.1520 - val_acc: 0.2823\n",
      "Epoch 15/35\n",
      "182276/182276 [==============================] - 3s 19us/step - loss: 6.1033 - acc: 0.9943 - val_loss: 4.3580 - val_acc: 0.9980\n",
      "Epoch 16/35\n",
      "182276/182276 [==============================] - 3s 19us/step - loss: 3.8529 - acc: 0.9968 - val_loss: 10.6914 - val_acc: 0.9981\n",
      "Epoch 17/35\n",
      "182276/182276 [==============================] - 3s 19us/step - loss: 2.0877 - acc: 0.9973 - val_loss: 11.7556 - val_acc: 0.9981\n",
      "Epoch 18/35\n",
      "182276/182276 [==============================] - 3s 19us/step - loss: 3.1873 - acc: 0.9975 - val_loss: 0.1411 - val_acc: 0.9983\n",
      "Epoch 19/35\n",
      "182276/182276 [==============================] - 4s 20us/step - loss: 2.2810 - acc: 0.9967 - val_loss: 7.6807 - val_acc: 0.9981\n",
      "Epoch 20/35\n",
      "182276/182276 [==============================] - 3s 19us/step - loss: 3.6080 - acc: 0.9972 - val_loss: 2.9330 - val_acc: 0.9982\n",
      "Epoch 21/35\n",
      "182276/182276 [==============================] - 4s 20us/step - loss: 0.2919 - acc: 0.9975 - val_loss: 0.1543 - val_acc: 0.9988\n",
      "Epoch 22/35\n",
      "182276/182276 [==============================] - 4s 19us/step - loss: 0.8969 - acc: 0.9976 - val_loss: 0.1671 - val_acc: 0.9987\n",
      "Epoch 23/35\n",
      "182276/182276 [==============================] - 4s 19us/step - loss: 1.7570 - acc: 0.9975 - val_loss: 0.1408 - val_acc: 0.9986\n",
      "Epoch 24/35\n",
      "182276/182276 [==============================] - 3s 19us/step - loss: 2.0056 - acc: 0.9970 - val_loss: 8.1907 - val_acc: 0.9982\n",
      "Epoch 25/35\n",
      "182276/182276 [==============================] - 3s 19us/step - loss: 1.3606 - acc: 0.9980 - val_loss: 0.1415 - val_acc: 0.9983\n",
      "Epoch 26/35\n",
      "182276/182276 [==============================] - 4s 22us/step - loss: 2.1837 - acc: 0.9972 - val_loss: 0.1689 - val_acc: 0.9983\n",
      "Epoch 27/35\n",
      "182276/182276 [==============================] - 4s 20us/step - loss: 0.4436 - acc: 0.9979 - val_loss: 0.1813 - val_acc: 0.9989\n",
      "Epoch 28/35\n",
      "182276/182276 [==============================] - 3s 19us/step - loss: 1.2146 - acc: 0.9976 - val_loss: 0.0957 - val_acc: 0.9965\n",
      "Epoch 29/35\n",
      "182276/182276 [==============================] - 3s 19us/step - loss: 1.2857 - acc: 0.9974 - val_loss: 4.7313 - val_acc: 0.9982\n",
      "Epoch 30/35\n",
      "182276/182276 [==============================] - 4s 20us/step - loss: 1.8442 - acc: 0.9979 - val_loss: 0.1533 - val_acc: 0.9988\n",
      "Epoch 31/35\n",
      "182276/182276 [==============================] - 4s 20us/step - loss: 1.1308 - acc: 0.9978 - val_loss: 0.7539 - val_acc: 0.9984\n",
      "Epoch 32/35\n",
      "182276/182276 [==============================] - 4s 20us/step - loss: 0.2987 - acc: 0.9978 - val_loss: 2.0506 - val_acc: 0.9982\n",
      "Epoch 33/35\n",
      "182276/182276 [==============================] - 3s 19us/step - loss: 0.8988 - acc: 0.9980 - val_loss: 0.0314 - val_acc: 0.9990\n",
      "Epoch 34/35\n",
      "182276/182276 [==============================] - 3s 19us/step - loss: 0.0336 - acc: 0.9989 - val_loss: 0.0523 - val_acc: 0.9989\n",
      "Epoch 35/35\n",
      "182276/182276 [==============================] - 3s 19us/step - loss: 0.3653 - acc: 0.9982 - val_loss: 0.0332 - val_acc: 0.9989\n"
     ]
    },
    {
     "data": {
      "text/plain": [
       "<keras.callbacks.callbacks.History at 0x1f4643a0f48>"
      ]
     },
     "execution_count": 75,
     "metadata": {},
     "output_type": "execute_result"
    }
   ],
   "source": [
    "from keras.models import Sequential\n",
    "from keras.layers import Dense\n",
    "model= Sequential()\n",
    "model.add(Dense(units=32, activation='relu', input_dim=30))\n",
    "model.add(Dense(units=16, activation='relu'))\n",
    "model.add(Dense(units=1, activation='sigmoid'))\n",
    "\n",
    "model.compile(optimizer='adam', loss='binary_crossentropy', metrics = ['acc'])\n",
    "\n",
    "model.fit(xTrain, yTrain, epochs = 35, validation_split=0.2, batch_size= 128)"
   ]
  },
  {
   "cell_type": "code",
   "execution_count": 76,
   "metadata": {},
   "outputs": [],
   "source": [
    "# predictions \n",
    "yPred_RF = rfc.predict(xTest)\n",
    "yPred_NB = clf_NB.predict(xTest)\n",
    "yPred_KNN= clf_KNN.predict(xTest)\n",
    "yPred_SVM= clf_svm.predict(xTest)\n",
    "yPred_ANN= model.predict(xTest)\n",
    "yPred_LR= clf_LR.predict(xTest)"
   ]
  },
  {
   "cell_type": "code",
   "execution_count": 79,
   "metadata": {},
   "outputs": [
    {
     "name": "stdout",
     "output_type": "stream",
     "text": [
      "[[1.]\n",
      " [0.]\n",
      " [0.]\n",
      " ...\n",
      " [0.]\n",
      " [0.]\n",
      " [0.]]\n"
     ]
    }
   ],
   "source": [
    "yPred_ANN=yPred_ANN.round()\n",
    "print(yPred_ANN)"
   ]
  },
  {
   "cell_type": "code",
   "execution_count": 84,
   "metadata": {
    "scrolled": false
   },
   "outputs": [
    {
     "name": "stdout",
     "output_type": "stream",
     "text": [
      "The model used is Logistic Regression classifier\n",
      "The accuracy is 0.9989115550718023\n",
      "The precision is 0.7903225806451613\n",
      "The recall is 0.5\n"
     ]
    },
    {
     "data": {
      "image/png": "[encoded data removed]",
      "text/plain": [
       "<Figure size 288x288 with 2 Axes>"
      ]
     },
     "metadata": {
      "needs_background": "light"
     },
     "output_type": "display_data"
    },
    {
     "name": "stdout",
     "output_type": "stream",
     "text": [
      "\n",
      "The model used is Naive Bayes classifier\n",
      "The accuracy is 0.9930128857835048\n",
      "The precision is 0.14622641509433962\n",
      "The recall is 0.6326530612244898\n"
     ]
    },
    {
     "data": {
      "image/png": "[encoded data removed]",
      "text/plain": [
       "<Figure size 288x288 with 2 Axes>"
      ]
     },
     "metadata": {
      "needs_background": "light"
     },
     "output_type": "display_data"
    },
    {
     "name": "stdout",
     "output_type": "stream",
     "text": [
      "\n",
      "The model used is KNN classifier\n",
      "The accuracy is 0.9983673326077034\n",
      "The precision is 1.0\n",
      "The recall is 0.05102040816326531\n"
     ]
    },
    {
     "data": {
      "image/png": "[encoded data removed]",
      "text/plain": [
       "<Figure size 288x288 with 2 Axes>"
      ]
     },
     "metadata": {
      "needs_background": "light"
     },
     "output_type": "display_data"
    },
    {
     "name": "stdout",
     "output_type": "stream",
     "text": [
      "\n",
      "The model used is SVM classifier\n",
      "The accuracy is 0.9984551104244935\n",
      "The precision is 0.6041666666666666\n",
      "The recall is 0.29591836734693877\n"
     ]
    },
    {
     "data": {
      "image/png": "[encoded data removed]",
      "text/plain": [
       "<Figure size 288x288 with 2 Axes>"
      ]
     },
     "metadata": {
      "needs_background": "light"
     },
     "output_type": "display_data"
    },
    {
     "name": "stdout",
     "output_type": "stream",
     "text": [
      "\n",
      "The model used is Random Forest classifier\n",
      "The accuracy is 0.9996137776061234\n",
      "The precision is 0.975\n",
      "The recall is 0.7959183673469388\n"
     ]
    },
    {
     "data": {
      "image/png": "[encoded data removed]",
      "text/plain": [
       "<Figure size 288x288 with 2 Axes>"
      ]
     },
     "metadata": {
      "needs_background": "light"
     },
     "output_type": "display_data"
    },
    {
     "name": "stdout",
     "output_type": "stream",
     "text": [
      "\n",
      "The model used is ANN\n",
      "The accuracy is 0.9988939995084443\n",
      "The precision is 0.7966101694915254\n",
      "The recall is 0.47959183673469385\n"
     ]
    },
    {
     "data": {
      "image/png": "[encoded data removed]",
      "text/plain": [
       "<Figure size 288x288 with 2 Axes>"
      ]
     },
     "metadata": {
      "needs_background": "light"
     },
     "output_type": "display_data"
    }
   ],
   "source": [
    "# Evaluating the classifier \n",
    "# printing every score of the classifier \n",
    "# scoring in anything \n",
    "from sklearn.metrics import classification_report, accuracy_score  \n",
    "from sklearn.metrics import precision_score, recall_score \n",
    "from sklearn.metrics import f1_score, matthews_corrcoef \n",
    "from sklearn.metrics import confusion_matrix \n",
    "\n",
    "print(\"The model used is Logistic Regression classifier\") \n",
    "  \n",
    "acc = accuracy_score(yTest, yPred_LR) \n",
    "print(\"The accuracy is {}\".format(acc)) \n",
    "  \n",
    "prec = precision_score(yTest, yPred_LR) \n",
    "print(\"The precision is {}\".format(prec))\n",
    "\n",
    "rec = recall_score(yTest, yPred_LR)\n",
    "print(\"The recall is {}\".format(rec)) \n",
    "\n",
    "LABELS = ['Normal', 'Fraud'] \n",
    "conf_matrix = confusion_matrix(yTest, yPred_LR) \n",
    "plt.figure(figsize =(4, 4)) \n",
    "sns.heatmap(conf_matrix, xticklabels = LABELS,  \n",
    "            yticklabels = LABELS, annot = True, fmt =\"d\"); \n",
    "plt.title(\"Confusion matrix For Logistic Regression\") \n",
    "plt.ylabel('True class') \n",
    "plt.xlabel('Predicted class') \n",
    "plt.show() \n",
    "\n",
    "print(\"\")\n",
    "\n",
    "print(\"The model used is Naive Bayes classifier\") \n",
    "  \n",
    "acc = accuracy_score(yTest, yPred_NB) \n",
    "print(\"The accuracy is {}\".format(acc)) \n",
    "  \n",
    "prec = precision_score(yTest, yPred_NB) \n",
    "print(\"The precision is {}\".format(prec))\n",
    "\n",
    "rec = recall_score(yTest, yPred_NB) \n",
    "print(\"The recall is {}\".format(rec)) \n",
    "\n",
    "LABELS = ['Normal', 'Fraud'] \n",
    "conf_matrix = confusion_matrix(yTest, yPred_NB) \n",
    "plt.figure(figsize =(4, 4)) \n",
    "sns.heatmap(conf_matrix, xticklabels = LABELS,  \n",
    "            yticklabels = LABELS, annot = True, fmt =\"d\"); \n",
    "plt.title(\"Confusion matrix For Naive Bayes classifier\") \n",
    "plt.ylabel('True class') \n",
    "plt.xlabel('Predicted class') \n",
    "plt.show() \n",
    "\n",
    "print(\"\")\n",
    "\n",
    "print(\"The model used is KNN classifier\") \n",
    "  \n",
    "acc = accuracy_score(yTest, yPred_KNN) \n",
    "print(\"The accuracy is {}\".format(acc)) \n",
    "  \n",
    "prec = precision_score(yTest, yPred_KNN) \n",
    "print(\"The precision is {}\".format(prec))\n",
    "\n",
    "rec = recall_score(yTest, yPred_KNN) \n",
    "print(\"The recall is {}\".format(rec)) \n",
    "\n",
    "LABELS = ['Normal', 'Fraud'] \n",
    "conf_matrix = confusion_matrix(yTest, yPred_KNN) \n",
    "plt.figure(figsize =(4, 4)) \n",
    "sns.heatmap(conf_matrix, xticklabels = LABELS,  \n",
    "            yticklabels = LABELS, annot = True, fmt =\"d\"); \n",
    "plt.title(\"Confusion matrix For KNN classifier\") \n",
    "plt.ylabel('True class') \n",
    "plt.xlabel('Predicted class') \n",
    "plt.show() \n",
    "\n",
    "print(\"\")\n",
    "\n",
    "print(\"The model used is SVM classifier\") \n",
    "  \n",
    "acc = accuracy_score(yTest, yPred_SVM) \n",
    "print(\"The accuracy is {}\".format(acc)) \n",
    "  \n",
    "prec = precision_score(yTest, yPred_SVM) \n",
    "print(\"The precision is {}\".format(prec))\n",
    "\n",
    "rec = recall_score(yTest, yPred_SVM) \n",
    "print(\"The recall is {}\".format(rec))\n",
    "\n",
    "LABELS = ['Normal', 'Fraud'] \n",
    "conf_matrix = confusion_matrix(yTest, yPred_SVM) \n",
    "plt.figure(figsize =(4, 4)) \n",
    "sns.heatmap(conf_matrix, xticklabels = LABELS,  \n",
    "            yticklabels = LABELS, annot = True, fmt =\"d\"); \n",
    "plt.title(\"Confusion matrix For SVM classifier\") \n",
    "plt.ylabel('True class') \n",
    "plt.xlabel('Predicted class') \n",
    "plt.show() \n",
    "\n",
    "print(\"\")\n",
    "\n",
    "print(\"The model used is Random Forest classifier\") \n",
    "  \n",
    "acc = accuracy_score(yTest, yPred_RF) \n",
    "print(\"The accuracy is {}\".format(acc)) \n",
    "  \n",
    "prec = precision_score(yTest, yPred_RF) \n",
    "print(\"The precision is {}\".format(prec))\n",
    "\n",
    "rec = recall_score(yTest, yPred_RF) \n",
    "print(\"The recall is {}\".format(rec)) \n",
    "\n",
    "LABELS = ['Normal', 'Fraud'] \n",
    "conf_matrix = confusion_matrix(yTest, yPred_RF) \n",
    "plt.figure(figsize =(4, 4)) \n",
    "sns.heatmap(conf_matrix, xticklabels = LABELS,  \n",
    "            yticklabels = LABELS, annot = True, fmt =\"d\"); \n",
    "plt.title(\"Confusion matrix For Random Forests\") \n",
    "plt.ylabel('True class') \n",
    "plt.xlabel('Predicted class') \n",
    "plt.show() \n",
    "\n",
    "print(\"\")\n",
    "\n",
    "print(\"The model used is ANN\") \n",
    "  \n",
    "acc = accuracy_score(yTest, yPred_ANN) \n",
    "print(\"The accuracy is {}\".format(acc)) \n",
    "  \n",
    "prec = precision_score(yTest, yPred_ANN) \n",
    "print(\"The precision is {}\".format(prec))\n",
    "\n",
    "rec = recall_score(yTest, yPred_ANN) \n",
    "print(\"The recall is {}\".format(rec)) \n",
    "\n",
    "LABELS = ['Normal', 'Fraud'] \n",
    "conf_matrix = confusion_matrix(yTest, yPred_ANN) \n",
    "plt.figure(figsize =(4, 4)) \n",
    "sns.heatmap(conf_matrix, xticklabels = LABELS,  \n",
    "            yticklabels = LABELS, annot = True, fmt =\"d\"); \n",
    "plt.title(\"Confusion matrix For Neural Networks\") \n",
    "plt.ylabel('True class') \n",
    "plt.xlabel('Predicted class') \n",
    "plt.show() "
   ]
  },
  {
   "cell_type": "code",
   "execution_count": null,
   "metadata": {},
   "outputs": [],
   "source": []
  }
 ],
 "metadata": {
  "kernelspec": {
   "display_name": "Python 3",
   "language": "python",
   "name": "python3"
  },
  "language_info": {
   "codemirror_mode": {
    "name": "ipython",
    "version": 3
   },
   "file_extension": ".py",
   "mimetype": "text/x-python",
   "name": "python",
   "nbconvert_exporter": "python",
   "pygments_lexer": "ipython3",
   "version": "3.7.9"
  }
 },
 "nbformat": 4,
 "nbformat_minor": 4
}
